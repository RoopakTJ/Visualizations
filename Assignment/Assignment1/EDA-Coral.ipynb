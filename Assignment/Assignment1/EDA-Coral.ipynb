{
 "cells": [
  {
   "cell_type": "code",
   "execution_count": 352,
   "metadata": {},
   "outputs": [],
   "source": [
    "import numpy as np\n",
    "import pandas as pd\n",
    "import xlrd\n",
    "\n",
    "data = pd.read_excel('assignment-01-data-unformated.xlsx', index_col=1,error_bad_lines=False,skiprows=1)\n",
    "data3 = data\n",
    "# Melting the data with id-varse as name and latitude only as longitude is in different level of \n",
    "# hierarchy after import\n",
    "d=pd.melt(data, id_vars=['name','latitude'])\n",
    "data3 = data3.reset_index()\n",
    "d2=pd.melt(data3, id_vars=['longitude','name','latitude'])\n",
    "# Creatinf a separate dataframe and extracting the longitude column alone. This will be joined with the previous table on index\n",
    "longitude = d2['longitude']\n",
    "formatted = d.join(longitude)\n",
    "# Identify the coral type names location (Every new coral type will start with site01 name and 2017 year)\n",
    "d_name = formatted.loc[d.name == \"site01\",:]\n",
    "d_name.loc[d_name.variable == 2017]\n",
    "# Creating a new column Coral-type and inserted different coral types at different identified location\n",
    "formatted['Coral-type']=np.nan\n",
    "formatted.loc[[0],'Coral-type'] = \"soft corals\"\n",
    "formatted.loc[[64],'Coral-type'] = \"sea fans\"\n",
    "formatted.loc[[128],'Coral-type'] = \"blue corals\"\n",
    "formatted.loc[[192],'Coral-type'] = \"hard corals\"\n",
    "formatted.loc[[256],'Coral-type'] = \"sea-pens\"\n",
    "formatted['Coral-type'].fillna(method='ffill', inplace=True)\n",
    "formatted.rename(columns={'variable': 'year'}, inplace=True)\n",
    "# Year column is in string format, converted that to float and then to int data type for cconsistency\n",
    "formatted['year'] = formatted['year'].apply(float)\n",
    "formatted['year'] = formatted['year'].apply(int)\n",
    "formatted.to_excel('formatted-1.xlsx')"
   ]
  },
  {
   "cell_type": "code",
   "execution_count": 292,
   "metadata": {},
   "outputs": [],
   "source": []
  },
  {
   "cell_type": "code",
   "execution_count": null,
   "metadata": {},
   "outputs": [],
   "source": []
  },
  {
   "cell_type": "code",
   "execution_count": null,
   "metadata": {},
   "outputs": [],
   "source": []
  },
  {
   "cell_type": "code",
   "execution_count": null,
   "metadata": {},
   "outputs": [],
   "source": []
  },
  {
   "cell_type": "code",
   "execution_count": null,
   "metadata": {},
   "outputs": [],
   "source": []
  },
  {
   "cell_type": "code",
   "execution_count": null,
   "metadata": {},
   "outputs": [],
   "source": []
  },
  {
   "cell_type": "code",
   "execution_count": null,
   "metadata": {},
   "outputs": [],
   "source": []
  },
  {
   "cell_type": "code",
   "execution_count": null,
   "metadata": {},
   "outputs": [],
   "source": []
  },
  {
   "cell_type": "code",
   "execution_count": null,
   "metadata": {},
   "outputs": [],
   "source": []
  },
  {
   "cell_type": "code",
   "execution_count": null,
   "metadata": {},
   "outputs": [],
   "source": []
  },
  {
   "cell_type": "code",
   "execution_count": null,
   "metadata": {},
   "outputs": [],
   "source": []
  },
  {
   "cell_type": "code",
   "execution_count": null,
   "metadata": {},
   "outputs": [],
   "source": []
  },
  {
   "cell_type": "code",
   "execution_count": null,
   "metadata": {},
   "outputs": [],
   "source": []
  },
  {
   "cell_type": "code",
   "execution_count": null,
   "metadata": {},
   "outputs": [],
   "source": []
  },
  {
   "cell_type": "code",
   "execution_count": null,
   "metadata": {},
   "outputs": [],
   "source": []
  },
  {
   "cell_type": "code",
   "execution_count": 182,
   "metadata": {},
   "outputs": [
    {
     "data": {
      "text/html": [
       "<div>\n",
       "<style scoped>\n",
       "    .dataframe tbody tr th:only-of-type {\n",
       "        vertical-align: middle;\n",
       "    }\n",
       "\n",
       "    .dataframe tbody tr th {\n",
       "        vertical-align: top;\n",
       "    }\n",
       "\n",
       "    .dataframe thead th {\n",
       "        text-align: right;\n",
       "    }\n",
       "</style>\n",
       "<table border=\"1\" class=\"dataframe\">\n",
       "  <thead>\n",
       "    <tr style=\"text-align: right;\">\n",
       "      <th></th>\n",
       "      <th>Year</th>\n",
       "      <th>Coral</th>\n",
       "    </tr>\n",
       "  </thead>\n",
       "  <tbody>\n",
       "    <tr>\n",
       "      <th>0</th>\n",
       "      <td>2017</td>\n",
       "      <td>21.23</td>\n",
       "    </tr>\n",
       "    <tr>\n",
       "      <th>1</th>\n",
       "      <td>2016</td>\n",
       "      <td>19.23</td>\n",
       "    </tr>\n",
       "    <tr>\n",
       "      <th>2</th>\n",
       "      <td>2015</td>\n",
       "      <td>17.21</td>\n",
       "    </tr>\n",
       "    <tr>\n",
       "      <th>3</th>\n",
       "      <td>2014</td>\n",
       "      <td>15.78</td>\n",
       "    </tr>\n",
       "    <tr>\n",
       "      <th>4</th>\n",
       "      <td>2013</td>\n",
       "      <td>14.80</td>\n",
       "    </tr>\n",
       "    <tr>\n",
       "      <th>5</th>\n",
       "      <td>2012</td>\n",
       "      <td>NaN</td>\n",
       "    </tr>\n",
       "    <tr>\n",
       "      <th>6</th>\n",
       "      <td>2011</td>\n",
       "      <td>NaN</td>\n",
       "    </tr>\n",
       "    <tr>\n",
       "      <th>7</th>\n",
       "      <td>2010</td>\n",
       "      <td>NaN</td>\n",
       "    </tr>\n",
       "  </tbody>\n",
       "</table>\n",
       "</div>"
      ],
      "text/plain": [
       "   Year  Coral\n",
       "0  2017  21.23\n",
       "1  2016  19.23\n",
       "2  2015  17.21\n",
       "3  2014  15.78\n",
       "4  2013  14.80\n",
       "5  2012    NaN\n",
       "6  2011    NaN\n",
       "7  2010    NaN"
      ]
     },
     "execution_count": 182,
     "metadata": {},
     "output_type": "execute_result"
    }
   ],
   "source": [
    "import pandas as pd\n",
    "import matplotlib.pyplot as plt\n",
    "import numpy as np\n",
    "from sklearn import datasets, linear_model\n",
    "\n",
    "\n",
    "data = [['2017',21.230],['2016',19.230],['2015',17.210],['2014', 15.780],['2013',14.800],['2012',],['2011',],['2010',]]\n",
    "df = pd.DataFrame(data,columns=['Year','Coral'])\n",
    "df"
   ]
  },
  {
   "cell_type": "code",
   "execution_count": 194,
   "metadata": {},
   "outputs": [
    {
     "name": "stderr",
     "output_type": "stream",
     "text": [
      "/anaconda3/lib/python3.6/site-packages/ipykernel_launcher.py:2: FutureWarning: Method .as_matrix will be removed in a future version. Use .values instead.\n",
      "  \n",
      "/anaconda3/lib/python3.6/site-packages/ipykernel_launcher.py:7: FutureWarning: Method .as_matrix will be removed in a future version. Use .values instead.\n",
      "  import sys\n",
      "/anaconda3/lib/python3.6/site-packages/ipykernel_launcher.py:12: FutureWarning: Method .as_matrix will be removed in a future version. Use .values instead.\n",
      "  if sys.path[0] == '':\n"
     ]
    },
    {
     "data": {
      "text/plain": [
       "array([[12.757],\n",
       "       [11.126],\n",
       "       [ 9.495]])"
      ]
     },
     "execution_count": 194,
     "metadata": {},
     "output_type": "execute_result"
    }
   ],
   "source": [
    "x_train = df.Year[0:5]\n",
    "x_t = x_train.as_matrix(columns=None)\n",
    "x = x_t.reshape((-1,1))\n",
    "\n",
    "\n",
    "y_train = df.Coral[0:5]\n",
    "y_t = y_train.as_matrix(columns=None)\n",
    "y = y_t.reshape((-1,1))\n",
    "\n",
    "\n",
    "x_test = df.Year[5:]\n",
    "x_test = x_test.as_matrix(columns=None)\n",
    "x_test = x_test.reshape((-1,1))\n",
    "\n",
    "regr = linear_model.LinearRegression()\n",
    "regr.fit(x,y)\n",
    "\n",
    "y_pred = regr.predict(x_test)\n",
    "y_pred\n",
    "\n",
    "# working code\n",
    "\n",
    "#y_pred = pd.Series(y_pred.flatten())\n",
    "#df.Coral.dropna()\n",
    "\n",
    "\n",
    "\n"
   ]
  },
  {
   "cell_type": "code",
   "execution_count": null,
   "metadata": {},
   "outputs": [],
   "source": []
  },
  {
   "cell_type": "code",
   "execution_count": null,
   "metadata": {},
   "outputs": [],
   "source": []
  },
  {
   "cell_type": "code",
   "execution_count": null,
   "metadata": {},
   "outputs": [],
   "source": []
  }
 ],
 "metadata": {
  "kernelspec": {
   "display_name": "Python 3",
   "language": "python",
   "name": "python3"
  },
  "language_info": {
   "codemirror_mode": {
    "name": "ipython",
    "version": 3
   },
   "file_extension": ".py",
   "mimetype": "text/x-python",
   "name": "python",
   "nbconvert_exporter": "python",
   "pygments_lexer": "ipython3",
   "version": "3.6.5"
  }
 },
 "nbformat": 4,
 "nbformat_minor": 2
}
