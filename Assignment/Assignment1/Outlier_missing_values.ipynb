{
 "cells": [
  {
   "cell_type": "markdown",
   "metadata": {},
   "source": [
    "Inserting values for partially missing data using regression"
   ]
  },
  {
   "cell_type": "code",
   "execution_count": 17,
   "metadata": {},
   "outputs": [
    {
     "name": "stderr",
     "output_type": "stream",
     "text": [
      "/anaconda3/lib/python3.6/site-packages/ipykernel_launcher.py:11: FutureWarning: Method .as_matrix will be removed in a future version. Use .values instead.\n",
      "  # This is added back by InteractiveShellApp.init_path()\n",
      "/anaconda3/lib/python3.6/site-packages/ipykernel_launcher.py:16: FutureWarning: Method .as_matrix will be removed in a future version. Use .values instead.\n",
      "  app.launch_new_instance()\n",
      "/anaconda3/lib/python3.6/site-packages/ipykernel_launcher.py:21: FutureWarning: Method .as_matrix will be removed in a future version. Use .values instead.\n"
     ]
    },
    {
     "data": {
      "text/plain": [
       "array([[ -8.698],\n",
       "       [-14.306]])"
      ]
     },
     "execution_count": 17,
     "metadata": {},
     "output_type": "execute_result"
    }
   ],
   "source": [
    "import pandas as pd\n",
    "import matplotlib.pyplot as plt\n",
    "import numpy as np\n",
    "from sklearn import datasets, linear_model\n",
    "data = [['2017',39.000],['2016',10.450],['2015',4.340],['2014', 4.190],\n",
    "        ['2013',3.890],['2012',3.710],['2011',],['2010',]]\n",
    "df = pd.DataFrame(data,columns=['Year','Coral'])\n",
    "x_train = df.Year[0:6]\n",
    "x_t = x_train.as_matrix(columns=None)\n",
    "x = x_t.reshape((-1,1))\n",
    "y_train = df.Coral[0:6]\n",
    "y_t = y_train.as_matrix(columns=None)\n",
    "y = y_t.reshape((-1,1))\n",
    "x_test = df.Year[6:]\n",
    "x_test = x_test.as_matrix(columns=None)\n",
    "x_test = x_test.reshape((-1,1))\n",
    "regr = linear_model.LinearRegression()\n",
    "regr.fit(x,y)\n",
    "y_pred = regr.predict(x_test)\n",
    "y_pred\n"
   ]
  },
  {
   "cell_type": "markdown",
   "metadata": {},
   "source": [
    "Outlier in percentage"
   ]
  },
  {
   "cell_type": "code",
   "execution_count": 3,
   "metadata": {},
   "outputs": [],
   "source": [
    "form1 = pd.read_excel('formatted-1.xlsx')"
   ]
  },
  {
   "cell_type": "markdown",
   "metadata": {},
   "source": [
    "Outlier in Lattitude and Longitude"
   ]
  }
 ],
 "metadata": {
  "kernelspec": {
   "display_name": "Python 3",
   "language": "python",
   "name": "python3"
  },
  "language_info": {
   "codemirror_mode": {
    "name": "ipython",
    "version": 3
   },
   "file_extension": ".py",
   "mimetype": "text/x-python",
   "name": "python",
   "nbconvert_exporter": "python",
   "pygments_lexer": "ipython3",
   "version": "3.6.5"
  }
 },
 "nbformat": 4,
 "nbformat_minor": 2
}
